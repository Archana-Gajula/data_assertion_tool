{
 "cells": [
  {
   "cell_type": "markdown",
   "id": "cffbe219",
   "metadata": {},
   "source": []
  },
  {
   "cell_type": "code",
   "execution_count": 1,
   "id": "609b3d89",
   "metadata": {},
   "outputs": [],
   "source": [
    "from pyspark.sql import SparkSession\n",
    "from pyspark.sql import functions as F\n",
    "from pyspark.sql.functions import col, array, when, array_remove, lit, size, array_contains\n",
    "\n"
   ]
  },
  {
   "cell_type": "markdown",
   "id": "2f4c0118",
   "metadata": {},
   "source": [
    "specify the files needs to be compared and primary key"
   ]
  },
  {
   "cell_type": "code",
   "execution_count": 2,
   "id": "1eaaa006",
   "metadata": {},
   "outputs": [],
   "source": [
    "    expected_file_path = '/Users/archanagajula/IdeaProjects/pyspark_data_assertion/data/expected_data.csv'\n",
    "    actual_file_path = '/Users/archanagajula/IdeaProjects/pyspark_data_assertion/data/actual_data.csv'\n",
    "    primary_key_column = 'vendor_id'"
   ]
  },
  {
   "cell_type": "markdown",
   "id": "1c083a9d",
   "metadata": {},
   "source": [
    "start the spark session"
   ]
  },
  {
   "cell_type": "code",
   "execution_count": 3,
   "id": "4891509a",
   "metadata": {},
   "outputs": [],
   "source": [
    "    spark = SparkSession.builder.getOrCreate()\n",
    "    spark.sparkContext.setLogLevel(\"ERROR\")"
   ]
  },
  {
   "cell_type": "markdown",
   "id": "ad8ce4db",
   "metadata": {},
   "source": [
    "read files"
   ]
  },
  {
   "cell_type": "code",
   "execution_count": 4,
   "id": "9ab7e396",
   "metadata": {},
   "outputs": [],
   "source": [
    "    actual_df = spark.read.csv(actual_file_path, sep=',', header=True)\n",
    "    expected_df = spark.read.csv(expected_file_path, sep=',', header=True)"
   ]
  },
  {
   "cell_type": "code",
   "execution_count": 5,
   "id": "38763759",
   "metadata": {},
   "outputs": [
    {
     "name": "stdout",
     "output_type": "stream",
     "text": [
      "Count of all records from expected: 7\n",
      "Distinct Count of records from expected: 7\n",
      "Count of all records from actual: 7\n",
      "Distinct Count of records from actual: 7\n"
     ]
    }
   ],
   "source": [
    "    print(\"Count of all records from expected:\", expected_df.count())\n",
    "    print(\"Distinct Count of records from expected:\", expected_df.distinct().count())\n",
    "    print(\"Count of all records from actual:\", actual_df.count())\n",
    "    print(\"Distinct Count of records from actual:\", actual_df.distinct().count())"
   ]
  },
  {
   "cell_type": "code",
   "execution_count": 6,
   "id": "e73e62b6",
   "metadata": {},
   "outputs": [
    {
     "name": "stdout",
     "output_type": "stream",
     "text": [
      "Count of records that are in both: 4\n"
     ]
    }
   ],
   "source": [
    "    common_records_df = expected_df.intersect(actual_df)\n",
    "    print(\"Count of records that are in both:\", common_records_df.count())"
   ]
  },
  {
   "cell_type": "code",
   "execution_count": 7,
   "id": "81494ea4",
   "metadata": {},
   "outputs": [],
   "source": [
    "    only_expected_df = expected_df.subtract(actual_df)\n",
    "\n",
    "    only_actual_df = actual_df.subtract(expected_df)"
   ]
  },
  {
   "cell_type": "code",
   "execution_count": 8,
   "id": "4d290e77",
   "metadata": {},
   "outputs": [
    {
     "name": "stdout",
     "output_type": "stream",
     "text": [
      "Count of records that are only in expected: 3\n"
     ]
    }
   ],
   "source": [
    "    print('Count of records that are only in expected:',only_expected_df.count())"
   ]
  },
  {
   "cell_type": "code",
   "execution_count": 9,
   "id": "81b6e4f3",
   "metadata": {},
   "outputs": [
    {
     "name": "stdout",
     "output_type": "stream",
     "text": [
      "Count of records that are only in actual: 3\n"
     ]
    }
   ],
   "source": [
    "    print('Count of records that are only in actual:',only_actual_df.count())"
   ]
  },
  {
   "cell_type": "code",
   "execution_count": 10,
   "id": "87ccb88c",
   "metadata": {},
   "outputs": [
    {
     "name": "stdout",
     "output_type": "stream",
     "text": [
      "Some non common records from expected:\n",
      "+---------+-------------------+-------------------+---------------+-------------+------------+------------------+------------------+-------------------+------------+-----------+-----+-------+----------+------------+---------------------+------------+--------------------+\n",
      "|vendor_id|pickup_datetime    |dropoff_datetime   |passenger_count|trip_distance|rate_code_id|store_and_fwd_flag|pickup_location_id|dropoff_location_id|payment_type|fare_amount|extra|mta_tax|tip_amount|tolls_amount|improvement_surcharge|total_amount|congestion_surcharge|\n",
      "+---------+-------------------+-------------------+---------------+-------------+------------+------------------+------------------+-------------------+------------+-----------+-----+-------+----------+------------+---------------------+------------+--------------------+\n",
      "|7        |2019-01-27 18:49:51|2019-01-27 19:49:51|1              |1.3          |1           |N                 |144               |45                 |2           |10.5       |0.0  |null   |null      |null        |null                 |null        |null                |\n",
      "+---------+-------------------+-------------------+---------------+-------------+------------+------------------+------------------+-------------------+------------+-----------+-----+-------+----------+------------+---------------------+------------+--------------------+\n",
      "\n"
     ]
    }
   ],
   "source": [
    "    print(\"Some non common records from expected:\")\n",
    "    expected_non_matching_records = only_expected_df.join(only_actual_df, on=primary_key_column, how='left_anti').select(\n",
    "        only_expected_df[\"*\"])\n",
    "    expected_non_matching_records.orderBy(F.col(primary_key_column).asc()).show(5, False)"
   ]
  },
  {
   "cell_type": "code",
   "execution_count": 11,
   "id": "de62b6e7",
   "metadata": {},
   "outputs": [
    {
     "name": "stdout",
     "output_type": "stream",
     "text": [
      "Some non common records from actual:\n",
      "+---------+-------------------+-------------------+---------------+-------------+------------+------------------+------------------+-------------------+------------+-----------+-----+-------+----------+------------+---------------------+------------+--------------------+\n",
      "|vendor_id|pickup_datetime    |dropoff_datetime   |passenger_count|trip_distance|rate_code_id|store_and_fwd_flag|pickup_location_id|dropoff_location_id|payment_type|fare_amount|extra|mta_tax|tip_amount|tolls_amount|improvement_surcharge|total_amount|congestion_surcharge|\n",
      "+---------+-------------------+-------------------+---------------+-------------+------------+------------------+------------------+-------------------+------------+-----------+-----+-------+----------+------------+---------------------+------------+--------------------+\n",
      "|8        |2019-01-26 18:20:17|2019-01-26 18:39:27|1              |1.3          |1           |N                 |144               |45                 |2           |10.5       |0.0  |0.5    |0.0       |0.0         |0.3                  |11.3        |0.0                 |\n",
      "+---------+-------------------+-------------------+---------------+-------------+------------+------------------+------------------+-------------------+------------+-----------+-----+-------+----------+------------+---------------------+------------+--------------------+\n",
      "\n"
     ]
    }
   ],
   "source": [
    "    print(\"Some non common records from actual:\")\n",
    "    actual_non_matching_records = only_actual_df.join(only_expected_df, on=primary_key_column, how='left_anti').select(\n",
    "        only_actual_df[\"*\"])\n",
    "    actual_non_matching_records.orderBy(F.col(primary_key_column).asc()).show(5, False)"
   ]
  },
  {
   "cell_type": "markdown",
   "id": "a25e83f1",
   "metadata": {},
   "source": [
    "compare records column wise and adding non matching column names into array"
   ]
  },
  {
   "cell_type": "code",
   "execution_count": 12,
   "id": "4bc5e1a1",
   "metadata": {},
   "outputs": [],
   "source": [
    "    mismatch_columns = [when(expected_df[c] != actual_df[c], lit(c)).otherwise(\"\") for c in expected_df.columns]\n",
    "    select_exp = [col(primary_key_column), array_remove(array(*mismatch_columns), \"\").alias(\"mismatch_columns\")]\n",
    "    mismatch_columns_df = expected_df.join(actual_df,\n",
    "                                           on=primary_key_column, how='inner').select(select_exp)"
   ]
  },
  {
   "cell_type": "code",
   "execution_count": 13,
   "id": "1e8a7386",
   "metadata": {},
   "outputs": [
    {
     "name": "stdout",
     "output_type": "stream",
     "text": [
      "Count of records having mismatch: 2\n",
      "Count of records matching: 4\n"
     ]
    }
   ],
   "source": [
    "    print('Count of records having mismatch:', mismatch_columns_df.filter(size(\"mismatch_columns\") > 0).count())\n",
    "    print('Count of records matching:', mismatch_columns_df.filter(size(\"mismatch_columns\") == 0).count())"
   ]
  },
  {
   "cell_type": "code",
   "execution_count": 14,
   "id": "7d37539a",
   "metadata": {},
   "outputs": [
    {
     "name": "stdout",
     "output_type": "stream",
     "text": [
      "+---------+--------------------------------+\n",
      "|vendor_id|mismatch_columns                |\n",
      "+---------+--------------------------------+\n",
      "|3        |[passenger_count, trip_distance]|\n",
      "|6        |[pickup_datetime]               |\n",
      "+---------+--------------------------------+\n",
      "\n"
     ]
    }
   ],
   "source": [
    "    mismatch_columns_df.filter(size(\"mismatch_columns\") > 0).show(truncate=False)"
   ]
  }
 ],
 "metadata": {
  "kernelspec": {
   "display_name": "Python 3 (ipykernel)",
   "language": "python",
   "name": "python3"
  },
  "language_info": {
   "codemirror_mode": {
    "name": "ipython",
    "version": 3
   },
   "file_extension": ".py",
   "mimetype": "text/x-python",
   "name": "python",
   "nbconvert_exporter": "python",
   "pygments_lexer": "ipython3",
   "version": "3.9.13"
  }
 },
 "nbformat": 4,
 "nbformat_minor": 5
}
